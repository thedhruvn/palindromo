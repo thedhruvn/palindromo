{
 "cells": [
  {
   "cell_type": "markdown",
   "metadata": {},
   "source": [
    "## Core Algorithms\n",
    "import main"
   ]
  },
  {
   "cell_type": "code",
   "execution_count": 37,
   "metadata": {},
   "outputs": [
    {
     "name": "stdout",
     "output_type": "stream",
     "text": [
      "The autoreload extension is already loaded. To reload it, use:\n",
      "  %reload_ext autoreload\n"
     ]
    }
   ],
   "source": [
    "%load_ext autoreload\n",
    "%autoreload 2"
   ]
  },
  {
   "cell_type": "code",
   "execution_count": 40,
   "metadata": {},
   "outputs": [
    {
     "ename": "KeyboardInterrupt",
     "evalue": "",
     "output_type": "error",
     "traceback": [
      "\u001b[1;31m---------------------------------------------------------------------------\u001b[0m",
      "\u001b[1;31mKeyboardInterrupt\u001b[0m                         Traceback (most recent call last)",
      "\u001b[1;32mc:\\Users\\dhruv\\active\\fun\\palindrome-tips\\palindrome-investigation.ipynb Cell 3\u001b[0m in \u001b[0;36m<cell line: 5>\u001b[1;34m()\u001b[0m\n\u001b[0;32m      <a href='vscode-notebook-cell:/c%3A/Users/dhruv/active/fun/palindrome-tips/palindrome-investigation.ipynb#W1sZmlsZQ%3D%3D?line=4'>5</a>\u001b[0m \u001b[39mfor\u001b[39;00m pr \u001b[39min\u001b[39;00m \u001b[39mrange\u001b[39m(\u001b[39m1000\u001b[39m,\u001b[39m1999\u001b[39m):\n\u001b[0;32m      <a href='vscode-notebook-cell:/c%3A/Users/dhruv/active/fun/palindrome-tips/palindrome-investigation.ipynb#W1sZmlsZQ%3D%3D?line=5'>6</a>\u001b[0m     price \u001b[39m=\u001b[39m pr\u001b[39m/\u001b[39m\u001b[39m100.0\u001b[39m\n\u001b[1;32m----> <a href='vscode-notebook-cell:/c%3A/Users/dhruv/active/fun/palindrome-tips/palindrome-investigation.ipynb#W1sZmlsZQ%3D%3D?line=6'>7</a>\u001b[0m     results2\u001b[39m.\u001b[39mupdate({pr: main\u001b[39m.\u001b[39;49mdoBetterLinearSearch(price,\u001b[39m100\u001b[39;49m,\u001b[39m100000\u001b[39;49m)})\n\u001b[0;32m      <a href='vscode-notebook-cell:/c%3A/Users/dhruv/active/fun/palindrome-tips/palindrome-investigation.ipynb#W1sZmlsZQ%3D%3D?line=8'>9</a>\u001b[0m failed_results2 \u001b[39m=\u001b[39m {k: v \u001b[39mfor\u001b[39;00m k,v \u001b[39min\u001b[39;00m results2\u001b[39m.\u001b[39mitems() \u001b[39mif\u001b[39;00m \u001b[39m\"\u001b[39m\u001b[39msolution\u001b[39m\u001b[39m\"\u001b[39m \u001b[39min\u001b[39;00m v \u001b[39mand\u001b[39;00m v[\u001b[39m\"\u001b[39m\u001b[39msolution\u001b[39m\u001b[39m\"\u001b[39m] \u001b[39m==\u001b[39m \u001b[39mFalse\u001b[39;00m}\n\u001b[0;32m     <a href='vscode-notebook-cell:/c%3A/Users/dhruv/active/fun/palindrome-tips/palindrome-investigation.ipynb#W1sZmlsZQ%3D%3D?line=9'>10</a>\u001b[0m \u001b[39mprint\u001b[39m(failed_results2\u001b[39m.\u001b[39mkeys())\n",
      "File \u001b[1;32mc:\\Users\\dhruv\\active\\fun\\palindrome-tips\\main.py:35\u001b[0m, in \u001b[0;36mdoBetterLinearSearch\u001b[1;34m(price, min_range, max_range)\u001b[0m\n\u001b[0;32m     33\u001b[0m     total:\u001b[39mfloat\u001b[39m \u001b[39m=\u001b[39m price \u001b[39m+\u001b[39m tip\n\u001b[0;32m     34\u001b[0m     total_str \u001b[39m=\u001b[39m \u001b[39mf\u001b[39m\u001b[39m\"\u001b[39m\u001b[39m{\u001b[39;00mtotal\u001b[39m:\u001b[39;00m\u001b[39m.02f\u001b[39m\u001b[39m}\u001b[39;00m\u001b[39m\"\u001b[39m\n\u001b[1;32m---> 35\u001b[0m     \u001b[39mif\u001b[39;00m isPalindrome(total_str):\n\u001b[0;32m     36\u001b[0m         \u001b[39mreturn\u001b[39;00m {\u001b[39m\"\u001b[39m\u001b[39msolution\u001b[39m\u001b[39m\"\u001b[39m: \u001b[39mTrue\u001b[39;00m, \u001b[39m\"\u001b[39m\u001b[39mprice\u001b[39m\u001b[39m\"\u001b[39m: price, \u001b[39m\"\u001b[39m\u001b[39mtip\u001b[39m\u001b[39m\"\u001b[39m: tip, \u001b[39m\"\u001b[39m\u001b[39mtotal\u001b[39m\u001b[39m\"\u001b[39m: total_str}\n\u001b[0;32m     38\u001b[0m \u001b[39mreturn\u001b[39;00m {\u001b[39m\"\u001b[39m\u001b[39msolution\u001b[39m\u001b[39m\"\u001b[39m: \u001b[39mFalse\u001b[39;00m, \u001b[39m\"\u001b[39m\u001b[39mprice\u001b[39m\u001b[39m\"\u001b[39m: price}\n",
      "\u001b[1;31mKeyboardInterrupt\u001b[0m: "
     ]
    }
   ],
   "source": [
    "import importlib\n",
    "import main\n",
    "importlib.reload(main)\n",
    "results2 = {}\n",
    "for pr in range(1000,1999):\n",
    "    price = pr/100.0\n",
    "    results2.update({pr: main.doBetterLinearSearch(price,100,100000)})\n",
    "\n",
    "failed_results2 = {k: v for k,v in results2.items() if \"solution\" in v and v[\"solution\"] == False}\n",
    "print(failed_results2.keys())"
   ]
  },
  {
   "cell_type": "markdown",
   "metadata": {},
   "source": [
    "## Tests"
   ]
  },
  {
   "cell_type": "code",
   "execution_count": null,
   "metadata": {},
   "outputs": [],
   "source": [
    "import main\n",
    "results = {}\n",
    "for pr in range(1000,10000):\n",
    "    price = pr/100.0\n",
    "    results.update({pr: doBetterLinearSearch(price,10,1098)})\n",
    "\n",
    "failed_results = {k: v for k,v in results.items() if \"solution\" in v and v[\"solution\"] == False}\n",
    "print(failed_results.keys())\n",
    "\n",
    "results2 = {}\n",
    "for pr in range(1000,10000):\n",
    "    price = pr/100.0\n",
    "    results2.update({pr: doLinearSearch(price,100,1000000)})\n",
    "\n",
    "failed_results2 = {k: v for k,v in results2.items() if \"solution\" in v and v[\"solution\"] == False}\n",
    "print(failed_results2.keys())"
   ]
  },
  {
   "cell_type": "code",
   "execution_count": 63,
   "metadata": {},
   "outputs": [
    {
     "name": "stdout",
     "output_type": "stream",
     "text": [
      "slow: 0.6875\n",
      "faster: 1.578125\n",
      "71\n",
      "{'solution': True, 'price': 41.51, 'tip': 158.51, 'total': '200.02'}\n",
      "{'solution': True, 'price': 21.31, 'tip': 178.71, 'total': '200.02'}\n",
      "{'solution': True, 'price': 22.12, 'tip': 988.89, 'total': '1011.01'}\n",
      "{'solution': True, 'price': 23.12, 'tip': 987.89, 'total': '1011.01'}\n",
      "{'solution': True, 'price': 24.12, 'tip': 986.89, 'total': '1011.01'}\n",
      "{'solution': True, 'price': 25.12, 'tip': 985.89, 'total': '1011.01'}\n",
      "{'solution': True, 'price': 26.12, 'tip': 984.89, 'total': '1011.01'}\n",
      "{'solution': True, 'price': 27.12, 'tip': 983.89, 'total': '1011.01'}\n",
      "{'solution': True, 'price': 68.6, 'tip': 100.01, 'total': '168.61'}\n",
      "{'solution': True, 'price': 28.2, 'tip': 100.01, 'total': '128.21'}\n",
      "{'solution': True, 'price': 89.72, 'tip': 921.29, 'total': '1011.01'}\n",
      "{'solution': True, 'price': 69.7, 'tip': 101.01, 'total': '170.71'}\n",
      "{'solution': True, 'price': 49.32, 'tip': 961.69, 'total': '1011.01'}\n",
      "{'solution': True, 'price': 29.12, 'tip': 981.89, 'total': '1011.01'}\n",
      "{'solution': True, 'price': 29.3, 'tip': 101.01, 'total': '130.31'}\n",
      "{'solution': True, 'price': 90.91, 'tip': 110.11, 'total': '201.02'}\n",
      "{'solution': True, 'price': 70.71, 'tip': 130.31, 'total': '201.02'}\n",
      "{'solution': True, 'price': 50.51, 'tip': 150.51, 'total': '201.02'}\n",
      "{'solution': True, 'price': 30.31, 'tip': 170.71, 'total': '201.02'}\n",
      "{'solution': True, 'price': 92.01, 'tip': 108.01, 'total': '200.02'}\n",
      "{'solution': True, 'price': 10.11, 'tip': 190.91, 'total': '201.02'}\n",
      "{'solution': True, 'price': 10.21, 'tip': 189.81, 'total': '200.02'}\n",
      "{'solution': True, 'price': 71.81, 'tip': 128.21, 'total': '200.02'}\n",
      "{'solution': True, 'price': 51.61, 'tip': 148.41, 'total': '200.02'}\n",
      "{'solution': True, 'price': 31.41, 'tip': 168.61, 'total': '200.02'}\n",
      "{'solution': True, 'price': 92.91, 'tip': 110.11, 'total': '203.02'}\n",
      "{'solution': True, 'price': 11.02, 'tip': 999.99, 'total': '1011.01'}\n",
      "{'solution': True, 'price': 93.01, 'tip': 107.01, 'total': '200.02'}\n",
      "{'solution': True, 'price': 11.21, 'tip': 188.81, 'total': '200.02'}\n",
      "{'solution': True, 'price': 93.91, 'tip': 110.11, 'total': '204.02'}\n",
      "{'solution': True, 'price': 12.02, 'tip': 998.99, 'total': '1011.01'}\n",
      "{'solution': True, 'price': 94.01, 'tip': 106.01, 'total': '200.02'}\n",
      "{'solution': True, 'price': 12.11, 'tip': 190.91, 'total': '203.02'}\n",
      "{'solution': True, 'price': 94.91, 'tip': 110.11, 'total': '205.02'}\n",
      "{'solution': True, 'price': 13.02, 'tip': 997.99, 'total': '1011.01'}\n",
      "{'solution': True, 'price': 95.01, 'tip': 105.01, 'total': '200.02'}\n",
      "{'solution': True, 'price': 13.11, 'tip': 190.91, 'total': '204.02'}\n",
      "{'solution': True, 'price': 13.21, 'tip': 186.81, 'total': '200.02'}\n",
      "{'solution': True, 'price': 95.91, 'tip': 110.11, 'total': '206.02'}\n",
      "{'solution': True, 'price': 14.02, 'tip': 996.99, 'total': '1011.01'}\n",
      "{'solution': True, 'price': 96.01, 'tip': 104.01, 'total': '200.02'}\n",
      "{'solution': True, 'price': 14.11, 'tip': 190.91, 'total': '205.02'}\n",
      "{'solution': True, 'price': 14.21, 'tip': 185.81, 'total': '200.02'}\n",
      "{'solution': True, 'price': 15.02, 'tip': 995.99, 'total': '1011.01'}\n",
      "{'solution': True, 'price': 97.01, 'tip': 103.01, 'total': '200.02'}\n",
      "{'solution': True, 'price': 15.11, 'tip': 190.91, 'total': '206.02'}\n",
      "{'solution': True, 'price': 15.21, 'tip': 184.81, 'total': '200.02'}\n",
      "{'solution': True, 'price': 97.91, 'tip': 110.11, 'total': '208.02'}\n",
      "{'solution': True, 'price': 16.02, 'tip': 994.99, 'total': '1011.01'}\n",
      "{'solution': True, 'price': 16.11, 'tip': 190.91, 'total': '207.02'}\n",
      "{'solution': True, 'price': 16.21, 'tip': 183.81, 'total': '200.02'}\n",
      "{'solution': True, 'price': 98.91, 'tip': 110.11, 'total': '209.02'}\n",
      "{'solution': True, 'price': 17.02, 'tip': 993.99, 'total': '1011.01'}\n",
      "{'solution': True, 'price': 99.01, 'tip': 101.01, 'total': '200.02'}\n",
      "{'solution': True, 'price': 17.11, 'tip': 190.91, 'total': '208.02'}\n",
      "{'solution': True, 'price': 17.21, 'tip': 182.81, 'total': '200.02'}\n",
      "{'solution': True, 'price': 78.7, 'tip': 100.01, 'total': '178.71'}\n",
      "{'solution': True, 'price': 58.5, 'tip': 100.01, 'total': '158.51'}\n",
      "{'solution': True, 'price': 38.3, 'tip': 100.01, 'total': '138.31'}\n",
      "{'solution': True, 'price': 18.02, 'tip': 992.99, 'total': '1011.01'}\n",
      "{'solution': True, 'price': 79.62, 'tip': 931.39, 'total': '1011.01'}\n",
      "{'solution': True, 'price': 79.8, 'tip': 101.01, 'total': '180.81'}\n",
      "{'solution': True, 'price': 59.42, 'tip': 951.59, 'total': '1011.01'}\n",
      "{'solution': True, 'price': 59.6, 'tip': 101.01, 'total': '160.61'}\n",
      "{'solution': True, 'price': 39.22, 'tip': 971.79, 'total': '1011.01'}\n",
      "{'solution': True, 'price': 39.4, 'tip': 101.01, 'total': '140.41'}\n",
      "{'solution': True, 'price': 19.02, 'tip': 991.99, 'total': '1011.01'}\n",
      "{'solution': True, 'price': 19.2, 'tip': 101.01, 'total': '120.21'}\n",
      "{'solution': True, 'price': 80.81, 'tip': 120.21, 'total': '201.02'}\n",
      "{'solution': True, 'price': 40.41, 'tip': 160.61, 'total': '201.02'}\n",
      "{'solution': True, 'price': 20.21, 'tip': 180.81, 'total': '201.02'}\n"
     ]
    }
   ],
   "source": [
    "import importlib\n",
    "import main\n",
    "importlib.reload(main)\n",
    "results = {}\n",
    "import time\n",
    "\n",
    "### 199999 = $99,999,999 tip\n",
    "### 19999 = $99,999 tip\n",
    "### 1999 = $9,999 tip\n",
    "### 1099 = $999 tip\n",
    "### 199 = $99 tip\n",
    "\n",
    "\n",
    "start1 = time.process_time()\n",
    "for pr in range(1000,10000):\n",
    "    price = pr/100.0\n",
    "    results.update({pr: main.doBetterLinearSearch(price,10,199)})\n",
    "end1 = time.process_time()\n",
    "\n",
    "print(f\"slow: {end1 - start1}\")\n",
    "\n",
    "failed_results = {k: v for k,v in results.items() if \"solution\" in v and v[\"solution\"] == False}\n",
    "# print(failed_results.keys())\n",
    "\n",
    "results2 = {}\n",
    "start2 = time.process_time()\n",
    "for pr in range(1000,10000):\n",
    "    price = pr/100.0\n",
    "    results2.update({pr: main.doBetterLinearSearch(price,10,1999)})\n",
    "end2 = time.process_time()\n",
    "\n",
    "print(f\"faster: {end2 - start2}\")\n",
    "\n",
    "failed_results2 = {k: v for k,v in results2.items() if \"solution\" in v and v[\"solution\"] == False}\n",
    "# print(failed_results2.keys())\n",
    "\n",
    "missed_vals = list(set(failed_results.keys()).difference(failed_results2.keys()))\n",
    "print(len(missed_vals))\n",
    "for i in missed_vals:\n",
    "    print(results2[i])\n",
    "    "
   ]
  },
  {
   "cell_type": "code",
   "execution_count": 53,
   "metadata": {},
   "outputs": [
    {
     "name": "stdout",
     "output_type": "stream",
     "text": [
      "faster: 10.578125\n",
      "dict_keys([1020, 1029, 1031, 1038, 1041, 1047, 1051, 1061, 1065, 1071, 1074, 1081, 1091, 1101, 1130, 1131, 1139, 1141, 1148, 1151, 1157, 1161, 1171, 1175, 1181, 1191, 1201, 1231, 1240, 1241, 1249, 1251, 1258, 1261, 1267, 1271, 1281, 1291, 1301, 1314, 1341, 1350, 1351, 1359, 1361, 1368, 1371, 1377, 1381, 1391, 1401, 1415, 1424, 1431, 1451, 1460, 1461, 1469, 1471, 1478, 1481, 1491, 1501, 1516, 1525, 1531, 1534, 1541, 1561, 1570, 1571, 1579, 1581, 1591, 1601, 1626, 1631, 1635, 1641, 1644, 1651, 1671, 1680, 1681, 1691, 1701, 1718, 1731, 1736, 1741, 1745, 1751, 1754, 1761, 1781, 1791, 1801, 1819, 1828, 1846, 1855, 1864, 1911, 1929, 1938, 1956, 1965, 1974, 2012, 2030, 2039, 2048, 2066, 2075, 2103, 2140, 2149, 2158, 2176, 2203, 2241, 2250, 2259, 2268, 2303, 2315, 2351, 2360, 2369, 2378, 2403, 2416, 2425, 2461, 2470, 2479, 2503, 2517, 2526, 2535, 2571, 2580, 2603, 2627, 2636, 2645, 2681, 2703, 2719, 2737, 2746, 2755, 2803, 2829, 2847, 2856, 2865, 2903, 2921, 2939, 2957, 2966, 2975, 3013, 3022, 3040, 3049, 3067, 3076, 3104, 3150, 3159, 3177, 3204, 3213, 3251, 3260, 3269, 3304, 3313, 3316, 3361, 3370, 3379, 3404, 3413, 3417, 3426, 3471, 3480, 3504, 3513, 3518, 3527, 3536, 3581, 3604, 3613, 3628, 3637, 3646, 3704, 3713, 3720, 3738, 3747, 3756, 3804, 3821, 3848, 3857, 3866, 3904, 3913, 3931, 3958, 3967, 3976, 4014, 4023, 4032, 4050, 4068, 4077, 4105, 4160, 4178, 4205, 4214, 4261, 4270, 4305, 4314, 4317, 4371, 4380, 4405, 4414, 4418, 4427, 4481, 4505, 4514, 4519, 4528, 4537, 4605, 4614, 4629, 4638, 4647, 4705, 4714, 4721, 4739, 4748, 4757, 4805, 4831, 4849, 4858, 4867, 4905, 4914, 4923, 4941, 4959, 4968, 4977, 5015, 5024, 5033, 5042, 5069, 5078, 5106, 5179, 5206, 5215, 5271, 5306, 5315, 5318, 5381, 5406, 5415, 5419, 5428, 5506, 5515, 5520, 5529, 5538, 5606, 5615, 5630, 5639, 5648, 5706, 5715, 5740, 5749, 5758, 5806, 5859, 5868, 5906, 5915, 5924, 5933, 5969, 5978, 6016, 6025, 6034, 6043, 6052, 6070, 6079, 6107, 6180, 6207, 6216, 6307, 6316, 6319, 6407, 6416, 6420, 6429, 6507, 6516, 6521, 6530, 6539, 6607, 6616, 6631, 6640, 6649, 6707, 6716, 6741, 6750, 6759, 6807, 6851, 6869, 6907, 6916, 6925, 6934, 6943, 6961, 6979, 7017, 7026, 7035, 7044, 7053, 7080, 7108, 7208, 7217, 7308, 7317, 7320, 7408, 7417, 7421, 7430, 7508, 7517, 7531, 7540, 7608, 7617, 7641, 7650, 7708, 7717, 7751, 7760, 7808, 7861, 7908, 7917, 7926, 7935, 7944, 7971, 8018, 8027, 8036, 8045, 8054, 8072, 8109, 8209, 8218, 8309, 8318, 8321, 8409, 8418, 8431, 8509, 8518, 8541, 8609, 8618, 8651, 8709, 8718, 8761, 8809, 8871, 8909, 8918, 8927, 8936, 8945, 8963, 8981, 9019, 9028, 9037, 9046, 9055, 9073, 9119, 9210, 9211, 9219, 9221, 9231, 9241, 9261, 9271, 9281, 9310, 9311, 9319, 9321, 9331, 9341, 9351, 9371, 9381, 9410, 9411, 9419, 9421, 9431, 9441, 9451, 9461, 9481, 9510, 9511, 9519, 9521, 9531, 9541, 9551, 9561, 9571, 9610, 9611, 9619, 9621, 9631, 9641, 9651, 9661, 9671, 9681, 9710, 9711, 9721, 9731, 9741, 9751, 9761, 9771, 9781, 9811, 9821, 9831, 9841, 9851, 9861, 9871, 9881, 9921, 9931, 9941, 9951, 9961, 9971, 9981, 9991])\n"
     ]
    }
   ],
   "source": [
    "import importlib\n",
    "import main\n",
    "importlib.reload(main)\n",
    "import time\n",
    "\n",
    "results2 = {}\n",
    "start2 = time.process_time()\n",
    "for pr in range(1000,10000):\n",
    "    price = pr/100.0\n",
    "    results2.update({pr: main.doBetterLinearSearch(price,10,19999)})\n",
    "end2 = time.process_time()\n",
    "\n",
    "print(f\"faster: {end2 - start2}\")\n",
    "\n",
    "failed_results = {k: v for k,v in results2.items() if \"solution\" in v and v[\"solution\"] == False}\n",
    "print(failed_results.keys())\n"
   ]
  },
  {
   "cell_type": "code",
   "execution_count": 64,
   "metadata": {},
   "outputs": [
    {
     "ename": "KeyError",
     "evalue": "'solution'",
     "output_type": "error",
     "traceback": [
      "\u001b[1;31m---------------------------------------------------------------------------\u001b[0m",
      "\u001b[1;31mKeyError\u001b[0m                                  Traceback (most recent call last)",
      "\u001b[1;32mc:\\Users\\dhruv\\active\\fun\\palindrome-tips\\palindrome-investigation.ipynb Cell 8\u001b[0m in \u001b[0;36m<cell line: 1>\u001b[1;34m()\u001b[0m\n\u001b[1;32m----> <a href='vscode-notebook-cell:/c%3A/Users/dhruv/active/fun/palindrome-tips/palindrome-investigation.ipynb#W4sZmlsZQ%3D%3D?line=0'>1</a>\u001b[0m valid_results \u001b[39m=\u001b[39m {k: v \u001b[39mfor\u001b[39;00m k,v \u001b[39min\u001b[39;00m results\u001b[39m.\u001b[39mitems() \u001b[39mif\u001b[39;00m results[\u001b[39m'\u001b[39m\u001b[39msolution\u001b[39m\u001b[39m'\u001b[39m]}\n",
      "\u001b[1;32mc:\\Users\\dhruv\\active\\fun\\palindrome-tips\\palindrome-investigation.ipynb Cell 8\u001b[0m in \u001b[0;36m<dictcomp>\u001b[1;34m(.0)\u001b[0m\n\u001b[1;32m----> <a href='vscode-notebook-cell:/c%3A/Users/dhruv/active/fun/palindrome-tips/palindrome-investigation.ipynb#W4sZmlsZQ%3D%3D?line=0'>1</a>\u001b[0m valid_results \u001b[39m=\u001b[39m {k: v \u001b[39mfor\u001b[39;00m k,v \u001b[39min\u001b[39;00m results\u001b[39m.\u001b[39mitems() \u001b[39mif\u001b[39;00m results[\u001b[39m'\u001b[39;49m\u001b[39msolution\u001b[39;49m\u001b[39m'\u001b[39;49m]}\n",
      "\u001b[1;31mKeyError\u001b[0m: 'solution'"
     ]
    }
   ],
   "source": [
    "valid_results = {k:v.items() for k,v in results.items() if results['solution']}\n",
    "    "
   ]
  },
  {
   "cell_type": "code",
   "execution_count": 73,
   "metadata": {},
   "outputs": [
    {
     "name": "stdout",
     "output_type": "stream",
     "text": [
      "8426\n",
      "6080\n"
     ]
    }
   ],
   "source": [
    "valid_results = {k: v for k,v in results.items() if \"solution\" in v and v[\"solution\"]}\n",
    "print(len(valid_results))\n",
    "crazy_tips = {k: v for k,v in valid_results.items() if v['tip']/v['price'] < .1 or v['tip']/v['price'] > .25}\n",
    "print(len(crazy_tips))"
   ]
  },
  {
   "cell_type": "code",
   "execution_count": null,
   "metadata": {},
   "outputs": [],
   "source": [
    "super_results = {}\n",
    "for double_check in failed_results2.keys():\n",
    "    price = double_check/100.0\n",
    "    super_results.update({double_check: doLinearSearch(price,100,10000000)})\n",
    "\n",
    "failed_results3 = {k: v for k,v in super_results.items() if \"solution\" in v and v[\"solution\"] == False}\n",
    "print(failed_results3.keys())\n"
   ]
  }
 ],
 "metadata": {
  "kernelspec": {
   "display_name": "Python 3.8.10 ('venv': venv)",
   "language": "python",
   "name": "python3"
  },
  "language_info": {
   "codemirror_mode": {
    "name": "ipython",
    "version": 3
   },
   "file_extension": ".py",
   "mimetype": "text/x-python",
   "name": "python",
   "nbconvert_exporter": "python",
   "pygments_lexer": "ipython3",
   "version": "3.8.10"
  },
  "orig_nbformat": 4,
  "vscode": {
   "interpreter": {
    "hash": "150c9202d06b02216276fdcbf5247bad6c114b09b0d29234e09dbf0d22e44c2d"
   }
  }
 },
 "nbformat": 4,
 "nbformat_minor": 2
}
